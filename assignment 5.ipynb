{
 "cells": [
  {
   "cell_type": "markdown",
   "metadata": {},
   "source": [
    "# Write a Python function to calculate the factorial of a number (a non-negative integer). The function accepts the number as an argument."
   ]
  },
  {
   "cell_type": "code",
   "execution_count": 1,
   "metadata": {},
   "outputs": [
    {
     "name": "stdout",
     "output_type": "stream",
     "text": [
      "factorial of  5 is 120\n"
     ]
    }
   ],
   "source": [
    "def factorial(num):\n",
    "    fact = 1\n",
    "    for i in range(1,num+1):\n",
    "        fact = fact *i\n",
    "    print(\"factorial of \",num ,\"is\",fact)\n",
    "factorial(5)    \n",
    "    "
   ]
  },
  {
   "cell_type": "markdown",
   "metadata": {},
   "source": [
    "# Write a Python function that accepts a string and calculate the number of upper case letters and lower case letters."
   ]
  },
  {
   "cell_type": "code",
   "execution_count": 3,
   "metadata": {},
   "outputs": [
    {
     "name": "stdout",
     "output_type": "stream",
     "text": [
      "Enter string:A Complete Sentence Must Have At Minimum Three Things\n",
      "The number of lowercase characters is: 36\n",
      "The number of uppercase characters is: 9\n"
     ]
    }
   ],
   "source": [
    "sen=input(\"Enter string:\")\n",
    "upper1=0\n",
    "lower1=0\n",
    "spaces=0\n",
    "for i in sen:\n",
    "    if(i.islower()):\n",
    "        lower1=lower1+1\n",
    "    elif(i.isupper()):\n",
    "        upper1=upper1+1\n",
    "    else:\n",
    "        spaces=spaces+1\n",
    "print(\"The number of lowercase characters is:\", lower1)\n",
    "print(\"The number of uppercase characters is:\", upper1)\n"
   ]
  },
  {
   "cell_type": "markdown",
   "metadata": {},
   "source": [
    "# Write a Python function to print the even numbers from a given list."
   ]
  },
  {
   "cell_type": "code",
   "execution_count": 4,
   "metadata": {},
   "outputs": [
    {
     "name": "stdout",
     "output_type": "stream",
     "text": [
      "2\n",
      "24\n",
      "6\n",
      "8\n",
      "4\n",
      "14\n"
     ]
    }
   ],
   "source": [
    "list =[2,3,24,5,6,7,8,15,9,4,1,14]\n",
    "for i in list:\n",
    "    if(i%2==0):\n",
    "        print(i)\n",
    "        "
   ]
  },
  {
   "cell_type": "markdown",
   "metadata": {},
   "source": [
    "# Write a Python function that checks whether a passed string is palindrome or not. Note: A palindrome is a word, phrase, or sequence that reads the same backward as forward, e.g., madam"
   ]
  },
  {
   "cell_type": "code",
   "execution_count": 18,
   "metadata": {},
   "outputs": [
    {
     "name": "stdout",
     "output_type": "stream",
     "text": [
      "Enter Word madam\n",
      "Yes its palindrome\n"
     ]
    }
   ],
   "source": [
    "def reverse(s): \n",
    "    return s[::-1]   \n",
    "def isPalindrome(s): \n",
    "    rev = reverse(s) \n",
    "  \n",
    "    if (s == rev): \n",
    "        return True\n",
    "    return False\n",
    "  \n",
    "s = input(\"Enter Word \")\n",
    "ans = isPalindrome(s) \n",
    "  \n",
    "if ans == 1: \n",
    "    print(\"Yes its palindrome\") \n",
    "else: \n",
    "    print(\"No its not palindrome\")"
   ]
  },
  {
   "cell_type": "markdown",
   "metadata": {},
   "source": [
    "# Write a Python function that takes a number as a parameter and check the number is prime or not."
   ]
  },
  {
   "cell_type": "code",
   "execution_count": 5,
   "metadata": {},
   "outputs": [
    {
     "name": "stdout",
     "output_type": "stream",
     "text": [
      " Number13\n",
      " Prime Number\n"
     ]
    }
   ],
   "source": [
    "a = int(input(\" Number\"))\n",
    "c = 0\n",
    "for i in range(2,a):\n",
    "    if (a%i==0):\n",
    "        c = 1\n",
    "if(c == 0):\n",
    "    print(\" Prime Number\")\n",
    "else:\n",
    "    print(\" Not a prime num\")\n",
    "        \n",
    "         "
   ]
  },
  {
   "cell_type": "markdown",
   "metadata": {},
   "source": [
    "# Suppose a customer is shopping in a market and you need to print all the items which user bought from market.\n",
    "Write a function which accepts the multiple arguments of user shopping list and\n",
    "print all the items which user bought from market."
   ]
  },
  {
   "cell_type": "code",
   "execution_count": 17,
   "metadata": {},
   "outputs": [
    {
     "name": "stdout",
     "output_type": "stream",
     "text": [
      "\n",
      " Milk\n",
      "\n",
      " Butter\n",
      "\n",
      " Bread\n",
      "\n",
      " Rusk\n",
      "\n",
      " Cake\n",
      "\n",
      " Rice\n",
      "\n",
      " Fruits\n",
      "\n",
      " Vegetables\n"
     ]
    }
   ],
   "source": [
    "def shop(*items):\n",
    "    for item in items:\n",
    "        print(\"\\n\",item)\n",
    "\n",
    "shop(\"Milk\",\"Butter\",\"Bread\",\"Rusk\",\"Cake\",\"Rice\",\"Fruits\",\"Vegetables\")"
   ]
  },
  {
   "cell_type": "code",
   "execution_count": null,
   "metadata": {},
   "outputs": [],
   "source": []
  }
 ],
 "metadata": {
  "kernelspec": {
   "display_name": "Python 3",
   "language": "python",
   "name": "python3"
  },
  "language_info": {
   "codemirror_mode": {
    "name": "ipython",
    "version": 3
   },
   "file_extension": ".py",
   "mimetype": "text/x-python",
   "name": "python",
   "nbconvert_exporter": "python",
   "pygments_lexer": "ipython3",
   "version": "3.7.3"
  }
 },
 "nbformat": 4,
 "nbformat_minor": 2
}
