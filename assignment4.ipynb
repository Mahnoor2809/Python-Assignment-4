{
 "cells": [
  {
   "cell_type": "markdown",
   "metadata": {},
   "source": [
    "# Use a dictionary to store information about a person you know. Store their first name, last name, age, and the city in which they live. You should have keys such as first_name, last_name, age, and city. Print each piece of information stored in your dictionary. Add a new key value pair about qualification then update the qualification value to high academic level then delete it."
   ]
  },
  {
   "cell_type": "code",
   "execution_count": 6,
   "metadata": {},
   "outputs": [
    {
     "name": "stdout",
     "output_type": "stream",
     "text": [
      " Person Information \n",
      "{'First_name': 'Mazhar', 'Last_name': 'Zafar', 'Age': 25, 'City': 'Karachi'}\n",
      " Add Information \n",
      "{'First_name': 'Mazhar', 'Last_name': 'Zafar', 'Age': 25, 'City': 'Karachi', 'Qualification': 'Intermediate'}\n",
      " Update Information \n",
      "{'First_name': 'Mazhar', 'Last_name': 'Zafar', 'Age': 25, 'City': 'Karachi', 'Qualification': 'Bachlors'}\n",
      " Delete Information \n",
      "{'First_name': 'Mazhar', 'Last_name': 'Zafar', 'Age': 25, 'City': 'Karachi'}\n"
     ]
    },
    {
     "data": {
      "text/plain": [
       "dict_values(['Mazhar', 'Zafar', 25, 'Karachi'])"
      ]
     },
     "execution_count": 6,
     "metadata": {},
     "output_type": "execute_result"
    }
   ],
   "source": [
    "print(\" Person Information \")\n",
    "person ={'First_name':'Mazhar','Last_name':'Zafar','Age':25,'City':'Karachi'}\n",
    "print(person)\n",
    "\n",
    "print(\" Add Information \")\n",
    "person['Qualification']='Intermediate'\n",
    "print(person)\n",
    "\n",
    "print(\" Update Information \")\n",
    "person.update({'Qualification':'Bachlors'})\n",
    "print(person)\n",
    "\n",
    "print(\" Delete Information \")\n",
    "del person['Qualification']\n",
    "print(person)\n",
    "person.values()\n"
   ]
  },
  {
   "cell_type": "markdown",
   "metadata": {},
   "source": [
    "# Make a dictionary called cities. Use the names of three cities as keys in your dictionary. Create a dictionary of information about each city and include the country that the city is in, its approximate population, and one fact about that city. The keys for each city’s dictionary should be something like country, population, and fact. Print the name of each city and all of the information you have stored about it."
   ]
  },
  {
   "cell_type": "code",
   "execution_count": 34,
   "metadata": {},
   "outputs": [
    {
     "name": "stdout",
     "output_type": "stream",
     "text": [
      "Shanghai is a city of China.\n",
      "It's Population is approx1.386 billion.\n",
      "The Chinese Army Has The Biggest Number Of Soldiers In The World\n",
      "\n",
      "Cannes is a city of France.\n",
      "It's Population is approx66.99 million.\n",
      "France Is The World’S Most Popular Tourist Destination\n",
      "\n",
      "Berlin is a city of Germany.\n",
      "It's Population is approx82.79 million.\n",
      "One Third Of Germany Is Still Covered In Forest And Woodland\n",
      "\n"
     ]
    }
   ],
   "source": [
    "cities = {\n",
    "    'shanghai':{\n",
    "        'Country': 'china',\n",
    "        'Population': '1.386 billion' ,\n",
    "        'facts': 'The Chinese army has the biggest number of soldiers in the world',\n",
    "               },\n",
    "    'cannes' : {\n",
    "        'Country':'france', \n",
    "        'Population':'66.99 million' ,\n",
    "        'facts': 'France is the world’s most popular tourist destination',\n",
    "               },\n",
    "    'berlin' : {\n",
    "        'Country':'germany',\n",
    "        'Population':'82.79 million' , \n",
    "        'facts':'One third of Germany is still covered in Forest and Woodland',\n",
    "               }\n",
    "        }\n",
    "for city, cityinfo in cities.items():\n",
    "    Country = cityinfo['Country'].title()\n",
    "    Population =cityinfo['Population']\n",
    "    facts = cityinfo['facts'].title()\n",
    "   \n",
    "    print(city.title() + ' is a city of '+ Country + '.')\n",
    "    print('It\\'s Population is approx' + Population + '.')\n",
    "    print(facts +\"\\n\")\n",
    "    \n",
    "\n",
    "                                   \n",
    "    "
   ]
  },
  {
   "cell_type": "markdown",
   "metadata": {},
   "source": [
    "# A movie theater charges different ticket prices depending on a person’s age. If a person is under the age of 3, the ticket is free; if they are between 3 and 12, the ticket is $10; and if they are over age 12, the ticket is $15. Write a loop in which you ask users their age, and then tell them the cost of their movie ticket."
   ]
  },
  {
   "cell_type": "code",
   "execution_count": 24,
   "metadata": {},
   "outputs": [
    {
     "name": "stdout",
     "output_type": "stream",
     "text": [
      " What is your age?5\n",
      "Ticket Fee is $10\n",
      " What is your age?2\n",
      "No Ticket Fee\n",
      " What is your age?15\n",
      "Ticket Fee is $15\n"
     ]
    }
   ],
   "source": [
    "\n",
    "for a in range(3):\n",
    "    age = int(input(\" What is your age?\"))\n",
    "    if age < 3:\n",
    "        print (\"No Ticket Fee\")\n",
    "    elif age <= 12:\n",
    "        print(\"Ticket Fee is $10\")\n",
    "    elif age > 12:\n",
    "        print(\"Ticket Fee is $15\")\n",
    "    \n",
    "\n",
    "\n",
    "\n",
    "    "
   ]
  },
  {
   "cell_type": "markdown",
   "metadata": {},
   "source": [
    "# Write a function called favorite_book() that accepts one parameter, title. The function should print a message, such as One of my favorite books is Alice in Wonderland. Call the function, making sure to include a book title as an argument in the function call."
   ]
  },
  {
   "cell_type": "code",
   "execution_count": 3,
   "metadata": {},
   "outputs": [
    {
     "name": "stdout",
     "output_type": "stream",
     "text": [
      "Alice in WonderLand is one of my favorite book \n"
     ]
    }
   ],
   "source": [
    "def favorite_book(title):\n",
    "    print(title + \" is one of my favorite book \")\n",
    "favorite_book('Alice in WonderLand')    "
   ]
  },
  {
   "cell_type": "markdown",
   "metadata": {},
   "source": [
    "# Guess the number game\n",
    "Write a program which randomly generate a number between 1 to 30 and ask the user in input field to guess the correct number. Give three chances to user guess the number and also give hint to user if hidden number is greater or smaller than the number he given to input field."
   ]
  },
  {
   "cell_type": "code",
   "execution_count": 21,
   "metadata": {},
   "outputs": [
    {
     "name": "stdout",
     "output_type": "stream",
     "text": [
      "23\n",
      " Your guess is too low \n",
      "None\n"
     ]
    }
   ],
   "source": [
    "from random import randint\n",
    "def guess(num):\n",
    "    ran_num = randint(1,30)\n",
    "    print(ran_num)\n",
    "    if num == ran_num:\n",
    "        print(\" Right Guess \")\n",
    "    elif num > ran_num:\n",
    "        print(\" Your guess is too high \")\n",
    "    else:\n",
    "        print(\" Your guess is too low \")\n",
    "print(guess(22))    \n",
    "    "
   ]
  },
  {
   "cell_type": "code",
   "execution_count": null,
   "metadata": {},
   "outputs": [],
   "source": []
  }
 ],
 "metadata": {
  "kernelspec": {
   "display_name": "Python 3",
   "language": "python",
   "name": "python3"
  },
  "language_info": {
   "codemirror_mode": {
    "name": "ipython",
    "version": 3
   },
   "file_extension": ".py",
   "mimetype": "text/x-python",
   "name": "python",
   "nbconvert_exporter": "python",
   "pygments_lexer": "ipython3",
   "version": "3.7.3"
  }
 },
 "nbformat": 4,
 "nbformat_minor": 2
}
